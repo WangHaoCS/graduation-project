{
 "cells": [
  {
   "cell_type": "markdown",
   "id": "40289fd9",
   "metadata": {},
   "source": [
    "# ResNet 和 MLP 训练速度的对比"
   ]
  },
  {
   "cell_type": "code",
   "execution_count": 1,
   "id": "83357ae9",
   "metadata": {},
   "outputs": [],
   "source": [
    "import torch\n",
    "from torch import nn\n",
    "import torch.nn.functional as F\n",
    "from torch.utils.data import DataLoader\n",
    "from torchvision.datasets import MNIST\n",
    "from torchvision.transforms import ToTensor"
   ]
  },
  {
   "cell_type": "markdown",
   "id": "638d4ba7",
   "metadata": {},
   "source": [
    "## MLP"
   ]
  },
  {
   "cell_type": "code",
   "execution_count": 2,
   "id": "bd92797b",
   "metadata": {},
   "outputs": [],
   "source": [
    "class MLP(nn.Module):\n",
    "    def __init__(self):\n",
    "        super(MLP, self).__init__()\n",
    "        self.flatten = nn.Flatten()\n",
    "        self.l1 = nn.Linear(28*28, 64)\n",
    "        self.l2 = nn.Linear(64, 64)\n",
    "        self.dropout = nn.Dropout(0.1)\n",
    "        self.l3 = nn.Linear(64, 10)\n",
    "        \n",
    "    def forward(self, x):\n",
    "        x = self.flatten(x)\n",
    "        h1 = F.relu(self.l1(x))\n",
    "        h2 = F.relu(self.l2(h1))\n",
    "        dropout = self.dropout(h2)\n",
    "        logits = self.l3(dropout)\n",
    "        return logits"
   ]
  },
  {
   "cell_type": "markdown",
   "id": "882962fd",
   "metadata": {},
   "source": [
    "## ResNet"
   ]
  },
  {
   "cell_type": "code",
   "execution_count": 3,
   "id": "5ed68232",
   "metadata": {},
   "outputs": [],
   "source": [
    "class ResNet(nn.Module):\n",
    "    def __init__(self):\n",
    "        super(ResNet, self).__init__()\n",
    "        self.flatten = nn.Flatten()\n",
    "        self.l1 = nn.Linear(28*28, 64)\n",
    "        self.l2 = nn.Linear(64, 64)\n",
    "        self.dropout = nn.Dropout(0.1)\n",
    "        self.l3 = nn.Linear(64, 10)\n",
    "        \n",
    "    def forward(self, x):\n",
    "        x = self.flatten(x)\n",
    "        h1 = F.relu(self.l1(x))\n",
    "        h2 = F.relu(self.l2(h1))\n",
    "        dropout = self.dropout(h1 + h2)\n",
    "        logits = self.l3(dropout)\n",
    "        return logits"
   ]
  },
  {
   "cell_type": "markdown",
   "id": "03972b79",
   "metadata": {},
   "source": [
    "## Train loop"
   ]
  },
  {
   "cell_type": "code",
   "execution_count": 4,
   "id": "82ce09a6",
   "metadata": {},
   "outputs": [],
   "source": [
    "train_dataset = MNIST(\n",
    "    root=\".\",\n",
    "    train=True,\n",
    "    download=True,\n",
    "    transform=ToTensor()\n",
    ")\n",
    "val_dataset = MNIST(\n",
    "    root=\".\",\n",
    "    train=False,\n",
    "    download=True,\n",
    "    transform=ToTensor()\n",
    ")\n",
    "train_dataloader = DataLoader(train_dataset, batch_size=64, shuffle=True)\n",
    "val_dataloader = DataLoader(val_dataset, batch_size=64)"
   ]
  },
  {
   "cell_type": "code",
   "execution_count": 11,
   "id": "ad9f2ffa",
   "metadata": {},
   "outputs": [],
   "source": [
    "def train(model: nn.Module):\n",
    "    loss_fn = nn.CrossEntropyLoss()\n",
    "    optimizer = torch.optim.SGD(model.parameters(), 1e-2)\n",
    "    epochs = 20\n",
    "    val_loss_list = []\n",
    "    val_acc_list = []\n",
    "    for t in range(epochs):\n",
    "        loss_list = []\n",
    "        model.train()\n",
    "        for X, y in train_dataloader:\n",
    "            X, y = X.to(\"cuda:0\"), y.to(\"cuda:0\")\n",
    "            pred = model(X)\n",
    "            loss = loss_fn(pred, y)\n",
    "            optimizer.zero_grad()\n",
    "            loss.backward()\n",
    "            optimizer.step()\n",
    "            loss_list.append(loss.item())\n",
    "        train_loss = torch.tensor(loss_list).mean()\n",
    "        \n",
    "        \n",
    "        loss_list = []\n",
    "        acc_list = []\n",
    "        model.eval()\n",
    "        with torch.no_grad():\n",
    "            for X, y in val_dataloader:\n",
    "                X, y = X.to(\"cuda:0\"), y.to(\"cuda:0\")\n",
    "                pred = model(X)\n",
    "                loss = loss_fn(pred, y)\n",
    "                loss_list.append(loss.item())\n",
    "                acc_list.extend((F.softmax(pred, dim=1).argmax(1) == y).cpu().tolist())\n",
    "        \n",
    "        val_loss = torch.tensor(loss_list).mean()\n",
    "        val_acc = torch.tensor(acc_list, dtype=torch.float).mean()\n",
    "        val_loss_list.append(val_loss)\n",
    "        val_acc_list.append(val_acc)\n",
    "        print(f\"Epoch {t+1:2}: train_loss={train_loss:.4f} val_loss={val_loss:.4f} val_acc={val_acc:.4f}\")\n",
    "    return val_loss_list, val_acc_list"
   ]
  },
  {
   "cell_type": "code",
   "execution_count": 12,
   "id": "fab0c5c9",
   "metadata": {},
   "outputs": [
    {
     "name": "stdout",
     "output_type": "stream",
     "text": [
      "Epoch  1: train_loss=1.8012 val_loss=0.8852 val_acc=0.7955\n",
      "Epoch  2: train_loss=0.6491 val_loss=0.4407 val_acc=0.8821\n",
      "Epoch  3: train_loss=0.4488 val_loss=0.3561 val_acc=0.8995\n",
      "Epoch  4: train_loss=0.3887 val_loss=0.3256 val_acc=0.9064\n",
      "Epoch  5: train_loss=0.3547 val_loss=0.2989 val_acc=0.9127\n",
      "Epoch  6: train_loss=0.3317 val_loss=0.2807 val_acc=0.9178\n",
      "Epoch  7: train_loss=0.3109 val_loss=0.2666 val_acc=0.9256\n",
      "Epoch  8: train_loss=0.2946 val_loss=0.2517 val_acc=0.9283\n",
      "Epoch  9: train_loss=0.2772 val_loss=0.2396 val_acc=0.9293\n",
      "Epoch 10: train_loss=0.2644 val_loss=0.2294 val_acc=0.9345\n",
      "Epoch 11: train_loss=0.2519 val_loss=0.2174 val_acc=0.9381\n",
      "Epoch 12: train_loss=0.2389 val_loss=0.2082 val_acc=0.9383\n",
      "Epoch 13: train_loss=0.2279 val_loss=0.1971 val_acc=0.9428\n",
      "Epoch 14: train_loss=0.2185 val_loss=0.1908 val_acc=0.9454\n",
      "Epoch 15: train_loss=0.2079 val_loss=0.1835 val_acc=0.9466\n",
      "Epoch 16: train_loss=0.2020 val_loss=0.1783 val_acc=0.9470\n",
      "Epoch 17: train_loss=0.1945 val_loss=0.1710 val_acc=0.9502\n",
      "Epoch 18: train_loss=0.1872 val_loss=0.1679 val_acc=0.9513\n",
      "Epoch 19: train_loss=0.1815 val_loss=0.1620 val_acc=0.9514\n",
      "Epoch 20: train_loss=0.1759 val_loss=0.1573 val_acc=0.9546\n"
     ]
    }
   ],
   "source": [
    "mlp = MLP().to(\"cuda:0\")\n",
    "mlp_loss, mlp_acc = train(mlp)"
   ]
  },
  {
   "cell_type": "code",
   "execution_count": 13,
   "id": "6f96621e",
   "metadata": {
    "scrolled": true
   },
   "outputs": [
    {
     "name": "stdout",
     "output_type": "stream",
     "text": [
      "Epoch  1: train_loss=1.1728 val_loss=0.4988 val_acc=0.8763\n",
      "Epoch  2: train_loss=0.4716 val_loss=0.3598 val_acc=0.9013\n",
      "Epoch  3: train_loss=0.3871 val_loss=0.3143 val_acc=0.9124\n",
      "Epoch  4: train_loss=0.3441 val_loss=0.2845 val_acc=0.9223\n",
      "Epoch  5: train_loss=0.3139 val_loss=0.2632 val_acc=0.9238\n",
      "Epoch  6: train_loss=0.2904 val_loss=0.2465 val_acc=0.9287\n",
      "Epoch  7: train_loss=0.2683 val_loss=0.2283 val_acc=0.9349\n",
      "Epoch  8: train_loss=0.2529 val_loss=0.2151 val_acc=0.9375\n",
      "Epoch  9: train_loss=0.2365 val_loss=0.2039 val_acc=0.9402\n",
      "Epoch 10: train_loss=0.2230 val_loss=0.1928 val_acc=0.9435\n",
      "Epoch 11: train_loss=0.2106 val_loss=0.1807 val_acc=0.9481\n",
      "Epoch 12: train_loss=0.2009 val_loss=0.1736 val_acc=0.9491\n",
      "Epoch 13: train_loss=0.1926 val_loss=0.1664 val_acc=0.9523\n",
      "Epoch 14: train_loss=0.1838 val_loss=0.1599 val_acc=0.9532\n",
      "Epoch 15: train_loss=0.1744 val_loss=0.1532 val_acc=0.9548\n",
      "Epoch 16: train_loss=0.1674 val_loss=0.1477 val_acc=0.9561\n",
      "Epoch 17: train_loss=0.1613 val_loss=0.1426 val_acc=0.9580\n",
      "Epoch 18: train_loss=0.1565 val_loss=0.1385 val_acc=0.9594\n",
      "Epoch 19: train_loss=0.1502 val_loss=0.1348 val_acc=0.9601\n",
      "Epoch 20: train_loss=0.1440 val_loss=0.1303 val_acc=0.9603\n"
     ]
    }
   ],
   "source": [
    "resnet = ResNet().to(\"cuda:0\")\n",
    "resnet_loss, resnet_acc = train(resnet)"
   ]
  },
  {
   "cell_type": "code",
   "execution_count": 22,
   "id": "c4ec1733",
   "metadata": {},
   "outputs": [
    {
     "data": {
      "image/png": "[encoded data removed]",
      "text/plain": [
       "<Figure size 864x288 with 2 Axes>"
      ]
     },
     "metadata": {
      "needs_background": "light"
     },
     "output_type": "display_data"
    }
   ],
   "source": [
    "import matplotlib.pyplot as plt\n",
    "\n",
    "plt.figure(figsize=(12, 4))\n",
    "plt.subplot(1, 2, 1)\n",
    "plt.plot(mlp_loss, label=\"Loss/MLP\")\n",
    "plt.plot(resnet_loss, label=\"Loss/ResNet\")\n",
    "plt.legend()\n",
    "\n",
    "plt.subplot(1, 2, 2)\n",
    "plt.plot(mlp_acc, label=\"Acc/MLP\")\n",
    "plt.plot(resnet_acc, label=\"Acc/ResNet\")\n",
    "plt.legend()\n",
    "\n",
    "plt.show()"
   ]
  }
 ],
 "metadata": {
  "kernelspec": {
   "display_name": "Python 3 (ipykernel)",
   "language": "python",
   "name": "python3"
  },
  "language_info": {
   "codemirror_mode": {
    "name": "ipython",
    "version": 3
   },
   "file_extension": ".py",
   "mimetype": "text/x-python",
   "name": "python",
   "nbconvert_exporter": "python",
   "pygments_lexer": "ipython3",
   "version": "3.8.13"
  }
 },
 "nbformat": 4,
 "nbformat_minor": 5
}
