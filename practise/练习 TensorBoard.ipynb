{
 "cells": [
  {
   "cell_type": "markdown",
   "id": "4bd185c1",
   "metadata": {},
   "source": [
    "# 练习 TensorBoard\n",
    "练习在 PyTorch 下使用 TensorBoard 记录标量指标、网络结构、图像等数据"
   ]
  },
  {
   "cell_type": "markdown",
   "id": "c8d3586c",
   "metadata": {},
   "source": [
    "## PyTorch 中产生 TensorBoard 日志\n",
    "在 PyTorch 下主要利用 `torch.utils.tensorboard.SummaryWriter` 来将 TensorBoard 需要的日志数据写入磁盘。\n",
    "\n",
    "- `add_scalar` 记录一个标量\n",
    "- `add_scalars` 记录多个标量\n",
    "- `add_histogram` 记录一个直方图\n",
    "- `add_image` 记录一个图像\n",
    "- `add_images` 记录多个图像\n",
    "- `add_graph` 记录图格式的数据（可以用来绘制网络结构）\n",
    "- 更多方法见[文档](https://pytorch.org/docs/stable/tensorboard.html)"
   ]
  },
  {
   "cell_type": "code",
   "execution_count": 1,
   "id": "4d9000ed",
   "metadata": {},
   "outputs": [],
   "source": [
    "import torch\n",
    "from torch import nn\n",
    "from torch.utils.data import DataLoader\n",
    "from torch.utils.tensorboard import SummaryWriter\n",
    "import torchvision\n",
    "from torchvision import datasets, models, transforms\n",
    "from tqdm.notebook import tqdm\n",
    "from datetime import datetime"
   ]
  },
  {
   "cell_type": "markdown",
   "id": "f8decfa5",
   "metadata": {},
   "source": [
    "初始化 `SummaryWriter`，可以指定 `log_dir`，如果不指定则放置在 `./runs/CURRENT_DATETIME_HOSTNAME` 目录下"
   ]
  },
  {
   "cell_type": "code",
   "execution_count": 15,
   "id": "5b67b711",
   "metadata": {},
   "outputs": [
    {
     "data": {
      "text/plain": [
       "'./logs/fashion-mnist-resnet50-2022-04-10 15:23:59'"
      ]
     },
     "execution_count": 15,
     "metadata": {},
     "output_type": "execute_result"
    }
   ],
   "source": [
    "now = datetime.now().strftime(\"%Y-%m-%d %H:%M:%S\")\n",
    "log_dir = f\"./logs/fashion-mnist-resnet50-{now}\"\n",
    "log_dir"
   ]
  },
  {
   "cell_type": "code",
   "execution_count": 3,
   "id": "ef51a951",
   "metadata": {},
   "outputs": [],
   "source": [
    "writer = SummaryWriter(log_dir)"
   ]
  },
  {
   "cell_type": "code",
   "execution_count": 4,
   "id": "5449850f",
   "metadata": {},
   "outputs": [],
   "source": [
    "# 一些超参数\n",
    "batch_size = 128\n",
    "device=\"cuda:0\"\n",
    "lr = 1e-3\n",
    "epochs = 10"
   ]
  },
  {
   "cell_type": "markdown",
   "id": "2caaa354",
   "metadata": {},
   "source": [
    "## 加载数据集和模型\n",
    "\n",
    "简单起见，这里使用 `torchvison` 内置的数据集和模型"
   ]
  },
  {
   "cell_type": "markdown",
   "id": "20669284",
   "metadata": {},
   "source": [
    "### 加载 FashionMNIST 数据集并初始化 DataLoader"
   ]
  },
  {
   "cell_type": "code",
   "execution_count": 5,
   "id": "d0f3557b",
   "metadata": {},
   "outputs": [],
   "source": [
    "# 将 PIL image 转换为 tensor 并进行标准化\n",
    "transform = transforms.Compose([transforms.ToTensor(), transforms.Normalize((0.5,), (0.5,))])"
   ]
  },
  {
   "cell_type": "code",
   "execution_count": 6,
   "id": "2fe3e3e8",
   "metadata": {},
   "outputs": [],
   "source": [
    "training_data = datasets.FashionMNIST(\n",
    "    root=\"./FashionMNIST\",\n",
    "    train=True,\n",
    "    download=True,\n",
    "    transform=transform\n",
    ")\n",
    "test_data = datasets.FashionMNIST(\n",
    "    root=\"./FashionMNIST\",\n",
    "    train=False,\n",
    "    download=True,\n",
    "    transform=transform\n",
    ")"
   ]
  },
  {
   "cell_type": "code",
   "execution_count": 7,
   "id": "039fbaa1",
   "metadata": {},
   "outputs": [],
   "source": [
    "# shuffle=True表示在每个 epoch 之前重新打乱数据集，测试集没有必要打乱\n",
    "training_dataloader = DataLoader(training_data, batch_size=batch_size, shuffle=True, drop_last=True)\n",
    "test_dataloader = DataLoader(test_data, batch_size=batch_size, drop_last=True)"
   ]
  },
  {
   "cell_type": "markdown",
   "id": "e6a13efc",
   "metadata": {},
   "source": [
    "手动取出一个 batch 的数据并添加到 TensorBoard"
   ]
  },
  {
   "cell_type": "code",
   "execution_count": 8,
   "id": "5035c934",
   "metadata": {
    "scrolled": true
   },
   "outputs": [
    {
     "data": {
      "text/plain": [
       "torch.Size([128, 1, 28, 28])"
      ]
     },
     "execution_count": 8,
     "metadata": {},
     "output_type": "execute_result"
    }
   ],
   "source": [
    "images, labels = next(iter(training_dataloader))\n",
    "images.size()"
   ]
  },
  {
   "cell_type": "code",
   "execution_count": 9,
   "id": "65d7fc79",
   "metadata": {},
   "outputs": [],
   "source": [
    "# 将64张图片拼成一个网格并添加到 TensorBoard\n",
    "grid = torchvision.utils.make_grid(images)\n",
    "writer.add_image('Training Images', grid, 0)"
   ]
  },
  {
   "cell_type": "markdown",
   "id": "5b62a1a8",
   "metadata": {},
   "source": [
    "### 初始化模型\n",
    "\n",
    "这里采用 `torchvision` 内置的 ResNet50，当然因为 ResNet 处理的是 RGB 格式的三通道图像，而 FashionMNIST 数据集是单通道的灰度图像，所以我们需要将ResNet 50 的第一个卷积层的输入通道修改成 1。"
   ]
  },
  {
   "cell_type": "code",
   "execution_count": 10,
   "id": "8d017762",
   "metadata": {},
   "outputs": [],
   "source": [
    "model = models.resnet18(\n",
    "    pretrained=False,\n",
    "    progress=False,\n",
    "    num_classes=10,\n",
    ")\n",
    "# 修改第一个卷积层的输入通道\n",
    "model.conv1 = torch.nn.Conv2d(1, 64, kernel_size=7, stride=2, padding=3, bias=False)"
   ]
  },
  {
   "cell_type": "markdown",
   "id": "16d7a674",
   "metadata": {},
   "source": [
    "将模型结构写入 TesorBoard，需要指定模型本身和模型输入，模型输入使用上面已经取出的一个 batch 的数据"
   ]
  },
  {
   "cell_type": "code",
   "execution_count": 11,
   "id": "76f8822a",
   "metadata": {
    "scrolled": true
   },
   "outputs": [],
   "source": [
    "writer.add_graph(model, images)"
   ]
  },
  {
   "cell_type": "markdown",
   "id": "9ef789f6",
   "metadata": {},
   "source": [
    "## 训练模型"
   ]
  },
  {
   "cell_type": "code",
   "execution_count": 12,
   "id": "d205c3cb",
   "metadata": {},
   "outputs": [],
   "source": [
    "loss_fn = nn.CrossEntropyLoss()\n",
    "optimizer = torch.optim.Adam(model.parameters(), lr=lr)"
   ]
  },
  {
   "cell_type": "code",
   "execution_count": 13,
   "id": "1f63b819",
   "metadata": {},
   "outputs": [],
   "source": [
    "def train_loop(\n",
    "    model: nn.Module, \n",
    "    dataloader: DataLoader, \n",
    "    loss_fn,\n",
    "    optimizer, \n",
    "    device: str, \n",
    "    writer: SummaryWriter, \n",
    "    epoch: int\n",
    "    ):\n",
    "    size = len(dataloader.dataset)\n",
    "    num_batches = len(dataloader)\n",
    "    loop = tqdm(enumerate(dataloader), total =len(dataloader), leave =False)\n",
    "    loop.set_description(f'Epoch [{epoch}/{epochs}]')\n",
    "    for batch, (X, y) in loop:\n",
    "        X, y = X.to(device), y.to(device)\n",
    "        # 前向传播并计算loss\n",
    "        pred = model(X)\n",
    "        loss = loss_fn(pred, y)\n",
    "        # 反向传播并优化模型参数\n",
    "        optimizer.zero_grad()\n",
    "        loss.backward()\n",
    "        optimizer.step()\n",
    "        # 让进度条显示 acc 和 loss\n",
    "        acc = 100 * (pred.argmax(1) == y).type(torch.float).sum().item() / X.size()[0]\n",
    "        loop.set_postfix(loss=loss.item(), acc=acc)\n",
    "        # 写入 TensorBoard\n",
    "        if batch % 100 == 0:\n",
    "            writer.add_scalar(\"Loss/train\", loss.item(), epoch * num_batches + batch)\n",
    "            writer.add_scalar(\"Acc/train\", acc, epoch * num_batches + batch)\n",
    "        \n",
    "\n",
    "def test_loop(model: nn.Module, dataloader: DataLoader, loss_fn, device: str, writer: SummaryWriter, epoch):\n",
    "    size = len(dataloader.dataset)\n",
    "    num_batches = len(dataloader)\n",
    "    test_loss, correct = 0, 0\n",
    "\n",
    "    with torch.no_grad():\n",
    "        for X, y in dataloader:\n",
    "            X, y = X.to(device), y.to(device)\n",
    "            pred = model(X)\n",
    "            test_loss += loss_fn(pred, y).item()\n",
    "            correct += (pred.argmax(1) == y).type(torch.float).sum().item()\n",
    "\n",
    "    test_loss /= num_batches\n",
    "    correct /= size\n",
    "    # 每个 epoch 结束后往 TensorBoard 记录一次测试的 Loss 和 Acc\n",
    "    writer.add_scalar(\"Loss/test\", test_loss, epoch)\n",
    "    writer.add_scalar(\"Acc/test\", 100 * correct, epoch)"
   ]
  },
  {
   "cell_type": "code",
   "execution_count": 14,
   "id": "db98a427",
   "metadata": {
    "scrolled": true
   },
   "outputs": [
    {
     "data": {
      "application/vnd.jupyter.widget-view+json": {
       "model_id": "",
       "version_major": 2,
       "version_minor": 0
      },
      "text/plain": [
       "  0%|          | 0/468 [00:00<?, ?it/s]"
      ]
     },
     "metadata": {},
     "output_type": "display_data"
    },
    {
     "data": {
      "application/vnd.jupyter.widget-view+json": {
       "model_id": "",
       "version_major": 2,
       "version_minor": 0
      },
      "text/plain": [
       "  0%|          | 0/468 [00:00<?, ?it/s]"
      ]
     },
     "metadata": {},
     "output_type": "display_data"
    },
    {
     "data": {
      "application/vnd.jupyter.widget-view+json": {
       "model_id": "",
       "version_major": 2,
       "version_minor": 0
      },
      "text/plain": [
       "  0%|          | 0/468 [00:00<?, ?it/s]"
      ]
     },
     "metadata": {},
     "output_type": "display_data"
    },
    {
     "data": {
      "application/vnd.jupyter.widget-view+json": {
       "model_id": "",
       "version_major": 2,
       "version_minor": 0
      },
      "text/plain": [
       "  0%|          | 0/468 [00:00<?, ?it/s]"
      ]
     },
     "metadata": {},
     "output_type": "display_data"
    },
    {
     "data": {
      "application/vnd.jupyter.widget-view+json": {
       "model_id": "",
       "version_major": 2,
       "version_minor": 0
      },
      "text/plain": [
       "  0%|          | 0/468 [00:00<?, ?it/s]"
      ]
     },
     "metadata": {},
     "output_type": "display_data"
    },
    {
     "data": {
      "application/vnd.jupyter.widget-view+json": {
       "model_id": "",
       "version_major": 2,
       "version_minor": 0
      },
      "text/plain": [
       "  0%|          | 0/468 [00:00<?, ?it/s]"
      ]
     },
     "metadata": {},
     "output_type": "display_data"
    },
    {
     "data": {
      "application/vnd.jupyter.widget-view+json": {
       "model_id": "",
       "version_major": 2,
       "version_minor": 0
      },
      "text/plain": [
       "  0%|          | 0/468 [00:00<?, ?it/s]"
      ]
     },
     "metadata": {},
     "output_type": "display_data"
    },
    {
     "data": {
      "application/vnd.jupyter.widget-view+json": {
       "model_id": "",
       "version_major": 2,
       "version_minor": 0
      },
      "text/plain": [
       "  0%|          | 0/468 [00:00<?, ?it/s]"
      ]
     },
     "metadata": {},
     "output_type": "display_data"
    },
    {
     "data": {
      "application/vnd.jupyter.widget-view+json": {
       "model_id": "",
       "version_major": 2,
       "version_minor": 0
      },
      "text/plain": [
       "  0%|          | 0/468 [00:00<?, ?it/s]"
      ]
     },
     "metadata": {},
     "output_type": "display_data"
    },
    {
     "data": {
      "application/vnd.jupyter.widget-view+json": {
       "model_id": "",
       "version_major": 2,
       "version_minor": 0
      },
      "text/plain": [
       "  0%|          | 0/468 [00:00<?, ?it/s]"
      ]
     },
     "metadata": {},
     "output_type": "display_data"
    },
    {
     "name": "stdout",
     "output_type": "stream",
     "text": [
      "Done!\n"
     ]
    }
   ],
   "source": [
    "model.to(device)\n",
    "for t in range(epochs):\n",
    "    train_loop(model, training_dataloader, loss_fn, optimizer, device, writer, t)\n",
    "    test_loop(model, test_dataloader, loss_fn, device, writer, t)\n",
    "    torch.save(model.state_dict(), f\"{log_dir}/epoch{t}.pth\")\n",
    "print(\"Done!\")"
   ]
  }
 ],
 "metadata": {
  "kernelspec": {
   "display_name": "Python 3 (ipykernel)",
   "language": "python",
   "name": "python3"
  },
  "language_info": {
   "codemirror_mode": {
    "name": "ipython",
    "version": 3
   },
   "file_extension": ".py",
   "mimetype": "text/x-python",
   "name": "python",
   "nbconvert_exporter": "python",
   "pygments_lexer": "ipython3",
   "version": "3.8.12"
  }
 },
 "nbformat": 4,
 "nbformat_minor": 5
}
