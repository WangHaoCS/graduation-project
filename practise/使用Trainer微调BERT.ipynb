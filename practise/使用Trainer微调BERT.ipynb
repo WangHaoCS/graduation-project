{
 "cells": [
  {
   "cell_type": "markdown",
   "id": "63a296a8",
   "metadata": {},
   "source": [
    "# 使用 Huggingface Trainer API 微调 BERT 模型\n",
    "\n",
    "Huggingface 提供了一个可以直接使用的 Trainer API，使用这个 API 训练模型与直接使用 PyTorch 训练模型有以下区别：\n",
    "- 不需要手动创建 DataLoader\n",
    "- 不需要手动编写训练循环和验证循环"
   ]
  },
  {
   "cell_type": "markdown",
   "id": "1c1bcea3",
   "metadata": {},
   "source": [
    "下面使用 Huggingface Trainer API 在 BERT 上微调一个 GLUE 任务，细节如下：\n",
    "- pretrained model: `bert-base-uncased`\n",
    "- dataset: `glue/sst2`"
   ]
  },
  {
   "cell_type": "code",
   "execution_count": 1,
   "id": "960bdd8c",
   "metadata": {},
   "outputs": [],
   "source": [
    "from datasets import load_dataset, load_metric\n",
    "from transformers import (\n",
    "    AutoConfig, \n",
    "    AutoTokenizer, \n",
    "    AutoModelForSequenceClassification, \n",
    "    EvalPrediction,\n",
    "    TrainingArguments,\n",
    "    Trainer,\n",
    "    DataCollatorWithPadding,\n",
    ")\n",
    "import numpy as np\n",
    "from sklearn.metrics import classification_report, confusion_matrix\n",
    "from torch.utils.data import DataLoader\n",
    "import torch\n",
    "import seaborn as sns"
   ]
  },
  {
   "cell_type": "markdown",
   "id": "80fb8491",
   "metadata": {},
   "source": [
    "## 加载数据集\n",
    "\n",
    "通过 `datasets.load_dataset` 从 Hub 中加载 glue/sst2 数据集，其中包括：\n",
    "- 训练集：train\n",
    "- 验证集：validation\n",
    "- 测试集：test"
   ]
  },
  {
   "cell_type": "markdown",
   "id": "8b609628",
   "metadata": {},
   "source": [
    "### 加载原始数据集\n",
    "\n",
    "该数据集包含train、validation、test三个子集，每个样本都由sentence、label、idx三个字段组成，其中sentence是原始语句，所以训练模型前需要先对其进行分词。"
   ]
  },
  {
   "cell_type": "code",
   "execution_count": 2,
   "id": "fe62651f",
   "metadata": {},
   "outputs": [
    {
     "name": "stderr",
     "output_type": "stream",
     "text": [
      "Reusing dataset glue (/home/wh/.cache/huggingface/datasets/glue/sst2/1.0.0/dacbe3125aa31d7f70367a07a8a9e72a5a0bfeb5fc42e75c9db75b96da6053ad)\n"
     ]
    },
    {
     "data": {
      "application/vnd.jupyter.widget-view+json": {
       "model_id": "2ebd91803a36451181cfe5315a0dd485",
       "version_major": 2,
       "version_minor": 0
      },
      "text/plain": [
       "  0%|          | 0/3 [00:00<?, ?it/s]"
      ]
     },
     "metadata": {},
     "output_type": "display_data"
    },
    {
     "data": {
      "text/plain": [
       "DatasetDict({\n",
       "    train: Dataset({\n",
       "        features: ['sentence', 'label', 'idx'],\n",
       "        num_rows: 67349\n",
       "    })\n",
       "    validation: Dataset({\n",
       "        features: ['sentence', 'label', 'idx'],\n",
       "        num_rows: 872\n",
       "    })\n",
       "    test: Dataset({\n",
       "        features: ['sentence', 'label', 'idx'],\n",
       "        num_rows: 1821\n",
       "    })\n",
       "})"
      ]
     },
     "execution_count": 2,
     "metadata": {},
     "output_type": "execute_result"
    }
   ],
   "source": [
    "raw_datasets = load_dataset(\"glue\", \"sst2\")\n",
    "raw_datasets"
   ]
  },
  {
   "cell_type": "markdown",
   "id": "ce2eaab5",
   "metadata": {},
   "source": [
    "### 加载分词器并对原始数据集分词"
   ]
  },
  {
   "cell_type": "code",
   "execution_count": 3,
   "id": "6588ea53",
   "metadata": {},
   "outputs": [],
   "source": [
    "tokenizer = AutoTokenizer.from_pretrained(\"bert-base-uncased\", use_fast=True)"
   ]
  },
  {
   "cell_type": "code",
   "execution_count": 4,
   "id": "689a6004",
   "metadata": {},
   "outputs": [
    {
     "name": "stdout",
     "output_type": "stream",
     "text": [
      "[12836, 2003, 2025, 2328, 1999, 1037, 2154, 1012]\n",
      "['roma', 'is', 'not', 'built', 'in', 'a', 'day', '.']\n"
     ]
    }
   ],
   "source": [
    "input_ids = tokenizer.encode(\"Roma is not built in a day.\", add_special_tokens=False)\n",
    "tokens = [tokenizer.decode(i) for i in input_ids]\n",
    "print(input_ids)\n",
    "print(tokens)"
   ]
  },
  {
   "cell_type": "markdown",
   "id": "7c6a6eb4",
   "metadata": {},
   "source": [
    "统计训练集中每个样本分词后的 token 个数，为后面设置截断的`max_length`提供参考"
   ]
  },
  {
   "cell_type": "code",
   "execution_count": 5,
   "id": "cd172b86",
   "metadata": {},
   "outputs": [
    {
     "data": {
      "text/plain": [
       "67349"
      ]
     },
     "execution_count": 5,
     "metadata": {},
     "output_type": "execute_result"
    }
   ],
   "source": [
    "token_counts = []\n",
    "for example in raw_datasets[\"train\"]:\n",
    "    token_counts.append(len(tokenizer.encode(example[\"sentence\"], add_special_tokens=False)))\n",
    "\n",
    "len(token_counts)"
   ]
  },
  {
   "cell_type": "code",
   "execution_count": 6,
   "id": "15c689d8",
   "metadata": {},
   "outputs": [
    {
     "data": {
      "text/plain": [
       "<seaborn.axisgrid.FacetGrid at 0x7f79b45334f0>"
      ]
     },
     "execution_count": 6,
     "metadata": {},
     "output_type": "execute_result"
    },
    {
     "data": {
      "image/png": "[encoded data removed]",
      "text/plain": [
       "<Figure size 360x360 with 1 Axes>"
      ]
     },
     "metadata": {
      "needs_background": "light"
     },
     "output_type": "display_data"
    }
   ],
   "source": [
    "sns.displot(token_counts, kind=\"hist\")"
   ]
  },
  {
   "cell_type": "markdown",
   "id": "2d8ff2ee",
   "metadata": {},
   "source": [
    "从上图可以看到 glue/sst2 中训练样本的句子长度大都在 60 以下，所以在分词时我们指定 `max_length=60` 是一个合理选择"
   ]
  },
  {
   "cell_type": "code",
   "execution_count": 7,
   "id": "3f2a3768",
   "metadata": {},
   "outputs": [],
   "source": [
    "def preprocessing(examples):\n",
    "    \"\"\"用于分词的预处理程序\"\"\"\n",
    "    return tokenizer(examples[\"sentence\"], padding=\"max_length\", max_length=60, truncation=True)"
   ]
  },
  {
   "cell_type": "code",
   "execution_count": 8,
   "id": "2aedc2e7",
   "metadata": {},
   "outputs": [
    {
     "data": {
      "application/vnd.jupyter.widget-view+json": {
       "model_id": "5f2f0367007247b1a65726beb5b6c15b",
       "version_major": 2,
       "version_minor": 0
      },
      "text/plain": [
       "  0%|          | 0/68 [00:00<?, ?ba/s]"
      ]
     },
     "metadata": {},
     "output_type": "display_data"
    },
    {
     "data": {
      "application/vnd.jupyter.widget-view+json": {
       "model_id": "11ec92a8c42947749ebe50b31de5692a",
       "version_major": 2,
       "version_minor": 0
      },
      "text/plain": [
       "  0%|          | 0/1 [00:00<?, ?ba/s]"
      ]
     },
     "metadata": {},
     "output_type": "display_data"
    },
    {
     "data": {
      "application/vnd.jupyter.widget-view+json": {
       "model_id": "3491634c2fd1444392dd8555bfd0ec7f",
       "version_major": 2,
       "version_minor": 0
      },
      "text/plain": [
       "  0%|          | 0/2 [00:00<?, ?ba/s]"
      ]
     },
     "metadata": {},
     "output_type": "display_data"
    }
   ],
   "source": [
    "tokenized_datasets = raw_datasets.map(preprocessing, batched=True)"
   ]
  },
  {
   "cell_type": "markdown",
   "id": "b20cb87a",
   "metadata": {},
   "source": [
    "可以看到分词后数据集中增加了input_ids、token_type_ids、attention_mask三个字段"
   ]
  },
  {
   "cell_type": "code",
   "execution_count": 9,
   "id": "fec3b8ad",
   "metadata": {},
   "outputs": [
    {
     "data": {
      "text/plain": [
       "DatasetDict({\n",
       "    train: Dataset({\n",
       "        features: ['sentence', 'label', 'idx', 'input_ids', 'token_type_ids', 'attention_mask'],\n",
       "        num_rows: 67349\n",
       "    })\n",
       "    validation: Dataset({\n",
       "        features: ['sentence', 'label', 'idx', 'input_ids', 'token_type_ids', 'attention_mask'],\n",
       "        num_rows: 872\n",
       "    })\n",
       "    test: Dataset({\n",
       "        features: ['sentence', 'label', 'idx', 'input_ids', 'token_type_ids', 'attention_mask'],\n",
       "        num_rows: 1821\n",
       "    })\n",
       "})"
      ]
     },
     "execution_count": 9,
     "metadata": {},
     "output_type": "execute_result"
    }
   ],
   "source": [
    "tokenized_datasets"
   ]
  },
  {
   "cell_type": "code",
   "execution_count": 10,
   "id": "00d464cc",
   "metadata": {},
   "outputs": [],
   "source": [
    "train_dataset = tokenized_datasets[\"train\"]\n",
    "eval_dataset = tokenized_datasets[\"validation\"]"
   ]
  },
  {
   "cell_type": "code",
   "execution_count": 11,
   "id": "bf748113",
   "metadata": {},
   "outputs": [
    {
     "data": {
      "text/plain": [
       "Dataset({\n",
       "    features: ['sentence', 'label', 'idx', 'input_ids', 'token_type_ids', 'attention_mask'],\n",
       "    num_rows: 67349\n",
       "})"
      ]
     },
     "execution_count": 11,
     "metadata": {},
     "output_type": "execute_result"
    }
   ],
   "source": [
    "train_dataset"
   ]
  },
  {
   "cell_type": "markdown",
   "id": "c86fae9a",
   "metadata": {},
   "source": [
    "模型不需要使用 `sentence` 和 `idx`，将其移除"
   ]
  },
  {
   "cell_type": "code",
   "execution_count": 12,
   "id": "55b38266",
   "metadata": {},
   "outputs": [],
   "source": [
    "train_dataset = train_dataset.remove_columns([\"sentence\", \"idx\"])\n",
    "eval_dataset = eval_dataset.remove_columns([\"sentence\", \"idx\"])"
   ]
  },
  {
   "cell_type": "code",
   "execution_count": 13,
   "id": "6e32e6ee",
   "metadata": {},
   "outputs": [
    {
     "data": {
      "text/plain": [
       "Dataset({\n",
       "    features: ['label', 'input_ids', 'token_type_ids', 'attention_mask'],\n",
       "    num_rows: 67349\n",
       "})"
      ]
     },
     "execution_count": 13,
     "metadata": {},
     "output_type": "execute_result"
    }
   ],
   "source": [
    "train_dataset"
   ]
  },
  {
   "cell_type": "code",
   "execution_count": 14,
   "id": "b4bbf5fb",
   "metadata": {},
   "outputs": [
    {
     "data": {
      "text/plain": [
       "['negative', 'positive']"
      ]
     },
     "execution_count": 14,
     "metadata": {},
     "output_type": "execute_result"
    }
   ],
   "source": [
    "labels = train_dataset.features[\"label\"].names\n",
    "labels"
   ]
  },
  {
   "cell_type": "markdown",
   "id": "9f8a0fd8",
   "metadata": {},
   "source": [
    "## 加载预训练的BERT模型配置和分词器"
   ]
  },
  {
   "cell_type": "code",
   "execution_count": 15,
   "id": "377582c4",
   "metadata": {},
   "outputs": [],
   "source": [
    "config = AutoConfig.from_pretrained(\n",
    "    \"bert-base-uncased\",\n",
    "    num_labels=2,           # SST-2是一个二分类任务\n",
    "    finetuning_task=\"SST-2\"\n",
    ")"
   ]
  },
  {
   "cell_type": "code",
   "execution_count": 16,
   "id": "11014efb",
   "metadata": {},
   "outputs": [
    {
     "name": "stderr",
     "output_type": "stream",
     "text": [
      "Some weights of the model checkpoint at bert-base-uncased were not used when initializing BertForSequenceClassification: ['cls.predictions.transform.LayerNorm.weight', 'cls.seq_relationship.weight', 'cls.seq_relationship.bias', 'cls.predictions.bias', 'cls.predictions.transform.dense.bias', 'cls.predictions.transform.dense.weight', 'cls.predictions.decoder.weight', 'cls.predictions.transform.LayerNorm.bias']\n",
      "- This IS expected if you are initializing BertForSequenceClassification from the checkpoint of a model trained on another task or with another architecture (e.g. initializing a BertForSequenceClassification model from a BertForPreTraining model).\n",
      "- This IS NOT expected if you are initializing BertForSequenceClassification from the checkpoint of a model that you expect to be exactly identical (initializing a BertForSequenceClassification model from a BertForSequenceClassification model).\n",
      "Some weights of BertForSequenceClassification were not initialized from the model checkpoint at bert-base-uncased and are newly initialized: ['classifier.weight', 'classifier.bias']\n",
      "You should probably TRAIN this model on a down-stream task to be able to use it for predictions and inference.\n"
     ]
    }
   ],
   "source": [
    "model = AutoModelForSequenceClassification.from_pretrained(\n",
    "    \"bert-base-uncased\",\n",
    "    config=config\n",
    ")"
   ]
  },
  {
   "cell_type": "code",
   "execution_count": 17,
   "id": "fd0ab4a7",
   "metadata": {},
   "outputs": [],
   "source": [
    "model.config.label2id = {\"negative\": 0, \"positive\": 1}\n",
    "model.config.id2label = {0: \"negative\", 1: \"positive\"}"
   ]
  },
  {
   "cell_type": "markdown",
   "id": "d54f5c34",
   "metadata": {},
   "source": [
    "## 训练模型"
   ]
  },
  {
   "cell_type": "markdown",
   "id": "ed29c71f",
   "metadata": {},
   "source": [
    "### 计算模型评估指标\n",
    "\n",
    "通过 `datasets.load_metric` 从 Hub 中加载 glue/sst2 的评估指标，改评估指标计算预测的准确率 accuracy。"
   ]
  },
  {
   "cell_type": "code",
   "execution_count": 18,
   "id": "f788bc9d",
   "metadata": {},
   "outputs": [],
   "source": [
    "metric = load_metric(\"glue\", \"sst2\")"
   ]
  },
  {
   "cell_type": "code",
   "execution_count": 19,
   "id": "7bfcfe37",
   "metadata": {},
   "outputs": [
    {
     "data": {
      "text/plain": [
       "{'accuracy': 0.6666666666666666}"
      ]
     },
     "execution_count": 19,
     "metadata": {},
     "output_type": "execute_result"
    }
   ],
   "source": [
    "metric.compute(predictions=[1, 1, 0], references=[1, 0, 0])"
   ]
  },
  {
   "cell_type": "markdown",
   "id": "0751eeaf",
   "metadata": {},
   "source": [
    "定义 `compute_metrics` 计算模型评估指标，参数 EvalPrediction 为 Trainer 调用该函数时传入的参数，其包含如下属性：\n",
    "- `predictions` (np.ndarray) — 模型的预测\n",
    "- `label_ids` (np.ndarray) — 真实标签\n",
    "\n",
    "详见[文档](https://huggingface.co/docs/transformers/v4.17.0/en/internal/trainer_utils#transformers.EvalPrediction)"
   ]
  },
  {
   "cell_type": "code",
   "execution_count": 20,
   "id": "5c05cc35",
   "metadata": {},
   "outputs": [],
   "source": [
    "def compute_metrics(p: EvalPrediction):\n",
    "    preds = np.argmax(p.predictions, axis=1)\n",
    "    return metric.compute(predictions=preds, references=p.label_ids)"
   ]
  },
  {
   "cell_type": "markdown",
   "id": "c2e079a6",
   "metadata": {},
   "source": [
    "### 初始化 Trainer"
   ]
  },
  {
   "cell_type": "code",
   "execution_count": 21,
   "id": "10af4034",
   "metadata": {},
   "outputs": [],
   "source": [
    "# 设置训练参数\n",
    "batch_size = 64\n",
    "seed = 2022\n",
    "epochs = 1\n",
    "\n",
    "training_args = TrainingArguments(\n",
    "    output_dir=\"./result/bert-base-uncased-sst2\",\n",
    "    overwrite_output_dir=True,\n",
    "    per_device_train_batch_size=batch_size,\n",
    "    per_device_eval_batch_size=batch_size,\n",
    "    save_strategy=\"no\",\n",
    "    seed=seed,\n",
    "    num_train_epochs=epochs,\n",
    "    optim=\"adamw_torch\", # 默认使用adamw_hf，会收到deprecated warning\n",
    ")"
   ]
  },
  {
   "cell_type": "code",
   "execution_count": 22,
   "id": "08a1e8c9",
   "metadata": {},
   "outputs": [],
   "source": [
    "trainer = Trainer(\n",
    "    model=model,\n",
    "    args=training_args,\n",
    "    train_dataset=train_dataset,\n",
    "    eval_dataset=eval_dataset,\n",
    "    compute_metrics=compute_metrics,\n",
    "    tokenizer=tokenizer,\n",
    ")"
   ]
  },
  {
   "cell_type": "markdown",
   "id": "16e62f89",
   "metadata": {},
   "source": [
    "### 微调模型"
   ]
  },
  {
   "cell_type": "code",
   "execution_count": 24,
   "id": "32777c1c",
   "metadata": {},
   "outputs": [
    {
     "name": "stderr",
     "output_type": "stream",
     "text": [
      "***** Running training *****\n",
      "  Num examples = 67349\n",
      "  Num Epochs = 1\n",
      "  Instantaneous batch size per device = 64\n",
      "  Total train batch size (w. parallel, distributed & accumulation) = 64\n",
      "  Gradient Accumulation steps = 1\n",
      "  Total optimization steps = 1053\n"
     ]
    },
    {
     "data": {
      "text/html": [
       "\n",
       "    <div>\n",
       "      \n",
       "      <progress value='1053' max='1053' style='width:300px; height:20px; vertical-align: middle;'></progress>\n",
       "      [1053/1053 04:54, Epoch 1/1]\n",
       "    </div>\n",
       "    <table border=\"1\" class=\"dataframe\">\n",
       "  <thead>\n",
       " <tr style=\"text-align: left;\">\n",
       "      <th>Step</th>\n",
       "      <th>Training Loss</th>\n",
       "    </tr>\n",
       "  </thead>\n",
       "  <tbody>\n",
       "    <tr>\n",
       "      <td>500</td>\n",
       "      <td>0.125100</td>\n",
       "    </tr>\n",
       "    <tr>\n",
       "      <td>1000</td>\n",
       "      <td>0.117500</td>\n",
       "    </tr>\n",
       "  </tbody>\n",
       "</table><p>"
      ],
      "text/plain": [
       "<IPython.core.display.HTML object>"
      ]
     },
     "metadata": {},
     "output_type": "display_data"
    },
    {
     "name": "stderr",
     "output_type": "stream",
     "text": [
      "\n",
      "\n",
      "Training completed. Do not forget to share your model on huggingface.co/models =)\n",
      "\n",
      "\n"
     ]
    },
    {
     "data": {
      "text/plain": [
       "{'train_runtime': 295.2504,\n",
       " 'train_samples_per_second': 228.108,\n",
       " 'train_steps_per_second': 3.566,\n",
       " 'total_flos': 2167367040752400.0,\n",
       " 'train_loss': 0.12180435691463981,\n",
       " 'epoch': 1.0}"
      ]
     },
     "execution_count": 24,
     "metadata": {},
     "output_type": "execute_result"
    }
   ],
   "source": [
    "train_result = trainer.train()\n",
    "train_result.metrics"
   ]
  },
  {
   "cell_type": "code",
   "execution_count": 25,
   "id": "09f32a83",
   "metadata": {},
   "outputs": [
    {
     "name": "stderr",
     "output_type": "stream",
     "text": [
      "Saving model checkpoint to ./result/bert-base-uncased-sst2\n",
      "Configuration saved in ./result/bert-base-uncased-sst2/config.json\n",
      "Model weights saved in ./result/bert-base-uncased-sst2/pytorch_model.bin\n",
      "tokenizer config file saved in ./result/bert-base-uncased-sst2/tokenizer_config.json\n",
      "Special tokens file saved in ./result/bert-base-uncased-sst2/special_tokens_map.json\n"
     ]
    }
   ],
   "source": [
    "trainer.save_model()"
   ]
  },
  {
   "cell_type": "markdown",
   "id": "646e4129",
   "metadata": {},
   "source": [
    "### 模型评估"
   ]
  },
  {
   "cell_type": "markdown",
   "id": "17727e1c",
   "metadata": {},
   "source": [
    "使用 trainer 进行评估"
   ]
  },
  {
   "cell_type": "code",
   "execution_count": 26,
   "id": "5977f593",
   "metadata": {},
   "outputs": [
    {
     "name": "stderr",
     "output_type": "stream",
     "text": [
      "***** Running Evaluation *****\n",
      "  Num examples = 872\n",
      "  Batch size = 64\n"
     ]
    },
    {
     "data": {
      "text/html": [
       "\n",
       "    <div>\n",
       "      \n",
       "      <progress value='14' max='14' style='width:300px; height:20px; vertical-align: middle;'></progress>\n",
       "      [14/14 00:01]\n",
       "    </div>\n",
       "    "
      ],
      "text/plain": [
       "<IPython.core.display.HTML object>"
      ]
     },
     "metadata": {},
     "output_type": "display_data"
    },
    {
     "data": {
      "text/plain": [
       "{'eval_loss': 0.22813807427883148,\n",
       " 'eval_accuracy': 0.9185779816513762,\n",
       " 'eval_runtime': 1.1923,\n",
       " 'eval_samples_per_second': 731.345,\n",
       " 'eval_steps_per_second': 11.742,\n",
       " 'epoch': 1.0}"
      ]
     },
     "execution_count": 26,
     "metadata": {},
     "output_type": "execute_result"
    }
   ],
   "source": [
    "trainer.evaluate()"
   ]
  },
  {
   "cell_type": "markdown",
   "id": "98a8053e",
   "metadata": {},
   "source": [
    "使用 scikit-learn 提供的 `confusion_matrix` 和 `classification_report` 进行评估"
   ]
  },
  {
   "cell_type": "code",
   "execution_count": 27,
   "id": "5ef56070",
   "metadata": {},
   "outputs": [],
   "source": [
    "data_collator = DataCollatorWithPadding(tokenizer)\n",
    "eval_dataloader = DataLoader(eval_dataset, batch_size=batch_size, collate_fn=data_collator)"
   ]
  },
  {
   "cell_type": "code",
   "execution_count": 28,
   "id": "aaa17357",
   "metadata": {},
   "outputs": [],
   "source": [
    "device = \"cuda:0\"\n",
    "\n",
    "model.eval()\n",
    "true_labels = []\n",
    "pred_labels = []\n",
    "with torch.no_grad():\n",
    "    for batch in eval_dataloader:\n",
    "        true_labels.extend(batch[\"labels\"].tolist())\n",
    "        batch.to(device)\n",
    "        result = model(**batch)\n",
    "        pred_labels.extend(result.logits.argmax(1).tolist())"
   ]
  },
  {
   "cell_type": "code",
   "execution_count": 29,
   "id": "ec93b34e",
   "metadata": {},
   "outputs": [
    {
     "data": {
      "text/plain": [
       "(872, 872)"
      ]
     },
     "execution_count": 29,
     "metadata": {},
     "output_type": "execute_result"
    }
   ],
   "source": [
    "len(true_labels), len(pred_labels)"
   ]
  },
  {
   "cell_type": "code",
   "execution_count": 30,
   "id": "3a04e97f",
   "metadata": {},
   "outputs": [
    {
     "data": {
      "text/plain": [
       "([1, 0, 1, 1, 0, 1, 0, 0, 1, 0], [1, 0, 1, 1, 0, 1, 0, 0, 1, 0])"
      ]
     },
     "execution_count": 30,
     "metadata": {},
     "output_type": "execute_result"
    }
   ],
   "source": [
    "true_labels[:10], pred_labels[:10]"
   ]
  },
  {
   "cell_type": "code",
   "execution_count": 31,
   "id": "e384e1c8",
   "metadata": {},
   "outputs": [
    {
     "name": "stdout",
     "output_type": "stream",
     "text": [
      "[[387  41]\n",
      " [ 30 414]]\n"
     ]
    }
   ],
   "source": [
    "# 混淆矩阵\n",
    "print(confusion_matrix(true_labels, pred_labels))"
   ]
  },
  {
   "cell_type": "code",
   "execution_count": 32,
   "id": "fa0ab30b",
   "metadata": {
    "scrolled": true
   },
   "outputs": [
    {
     "name": "stdout",
     "output_type": "stream",
     "text": [
      "              precision    recall  f1-score   support\n",
      "\n",
      "    negative       0.93      0.90      0.92       428\n",
      "    positive       0.91      0.93      0.92       444\n",
      "\n",
      "    accuracy                           0.92       872\n",
      "   macro avg       0.92      0.92      0.92       872\n",
      "weighted avg       0.92      0.92      0.92       872\n",
      "\n"
     ]
    }
   ],
   "source": [
    "print(classification_report(true_labels, pred_labels, labels=[0, 1], target_names=[\"negative\", \"positive\"]))"
   ]
  }
 ],
 "metadata": {
  "kernelspec": {
   "display_name": "Python 3 (ipykernel)",
   "language": "python",
   "name": "python3"
  },
  "language_info": {
   "codemirror_mode": {
    "name": "ipython",
    "version": 3
   },
   "file_extension": ".py",
   "mimetype": "text/x-python",
   "name": "python",
   "nbconvert_exporter": "python",
   "pygments_lexer": "ipython3",
   "version": "3.8.13"
  }
 },
 "nbformat": 4,
 "nbformat_minor": 5
}
