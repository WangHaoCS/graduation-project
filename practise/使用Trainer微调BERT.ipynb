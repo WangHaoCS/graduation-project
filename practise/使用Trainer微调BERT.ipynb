{
 "cells": [
  {
   "cell_type": "markdown",
   "id": "63a296a8",
   "metadata": {},
   "source": [
    "# 使用 Huggingface Trainer API 微调 BERT 模型\n",
    "\n",
    "Huggingface 提供了一个可以直接使用的 Trainer API，使用这个 API 训练模型与直接使用 PyTorch 训练模型有以下区别：\n",
    "- 不需要手动创建 DataLoader\n",
    "- 不需要手动编写训练循环和验证循环"
   ]
  },
  {
   "cell_type": "markdown",
   "id": "1c1bcea3",
   "metadata": {},
   "source": [
    "下面使用 Huggingface Trainer API 在 BERT 上微调一个 GLUE 任务，细节如下：\n",
    "- pretrained model: `bert-base-uncased`\n",
    "- dataset: `glue/sst2`"
   ]
  },
  {
   "cell_type": "code",
   "execution_count": null,
   "id": "5eec66dc",
   "metadata": {},
   "outputs": [],
   "source": []
  }
 ],
 "metadata": {
  "kernelspec": {
   "display_name": "Python 3 (ipykernel)",
   "language": "python",
   "name": "python3"
  },
  "language_info": {
   "codemirror_mode": {
    "name": "ipython",
    "version": 3
   },
   "file_extension": ".py",
   "mimetype": "text/x-python",
   "name": "python",
   "nbconvert_exporter": "python",
   "pygments_lexer": "ipython3",
   "version": "3.8.13"
  }
 },
 "nbformat": 4,
 "nbformat_minor": 5
}
